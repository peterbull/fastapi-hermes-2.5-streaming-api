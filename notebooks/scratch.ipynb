{
 "cells": [
  {
   "cell_type": "code",
   "execution_count": 4,
   "metadata": {},
   "outputs": [],
   "source": [
    "raw = {\n",
    "    \"id\": \"cmpl-ab9f12b4-5ca4-40d1-9a68-5c5c89f384eb\",\n",
    "    \"object\": \"text_completion\",\n",
    "    \"created\": 1699567318,\n",
    "    \"model\": \"../model/openhermes-2.5-mistral-7b.Q4_0.gguf\",\n",
    "    \"choices\": [\n",
    "        {\n",
    "          \"text\": \"\\u0011 Thank you for asking! I am functioning optimally, constantly updating my knowledge base and ensuring that I am able to help you in the best way possible. How can I assist you today?\",\n",
    "          \"index\": 0,\n",
    "          \"logprobs\": \"null\",\n",
    "          \"finish_reason\": \"stop\"\n",
    "        }\n",
    "    ],\n",
    "    \"usage\": {\n",
    "        \"prompt_tokens\": 73,\n",
    "        \"completion_tokens\": 39,\n",
    "        \"total_tokens\": 112\n",
    "    }\n",
    "}"
   ]
  },
  {
   "cell_type": "code",
   "execution_count": 6,
   "metadata": {},
   "outputs": [
    {
     "data": {
      "text/plain": [
       "'\\x11 Thank you for asking! I am functioning optimally, constantly updating my knowledge base and ensuring that I am able to help you in the best way possible. How can I assist you today?'"
      ]
     },
     "execution_count": 6,
     "metadata": {},
     "output_type": "execute_result"
    }
   ],
   "source": [
    "raw[\"choices\"][0][\"text\"]"
   ]
  },
  {
   "cell_type": "markdown",
   "metadata": {},
   "source": [
    "```bash\n",
    "git clone https://github.com/ggerganov/llama.cpp\n"
   ]
  }
 ],
 "metadata": {
  "kernelspec": {
   "display_name": ".venv",
   "language": "python",
   "name": "python3"
  },
  "language_info": {
   "codemirror_mode": {
    "name": "ipython",
    "version": 3
   },
   "file_extension": ".py",
   "mimetype": "text/x-python",
   "name": "python",
   "nbconvert_exporter": "python",
   "pygments_lexer": "ipython3",
   "version": "3.10.12"
  }
 },
 "nbformat": 4,
 "nbformat_minor": 2
}
